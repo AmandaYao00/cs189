{
 "cells": [
  {
   "cell_type": "code",
   "execution_count": 1,
   "id": "e1f754c0-5356-42c5-8ad3-ba47c2f50eab",
   "metadata": {},
   "outputs": [
    {
     "name": "stdout",
     "output_type": "stream",
     "text": [
      "\n",
      "loaded mnist data!\n",
      "test_data (10000, 1, 28, 28)\n",
      "training_data (60000, 1, 28, 28)\n",
      "training_labels (60000,)\n",
      "\n",
      "loaded spam data!\n",
      "test_data (1000, 32)\n",
      "training_data (4172, 32)\n",
      "training_labels (4172,)\n",
      "\n",
      "loaded cifar10 data!\n",
      "test_data (10000, 3072)\n",
      "training_data (50000, 3072)\n",
      "training_labels (50000,)\n"
     ]
    }
   ],
   "source": [
    "import sys\n",
    "if sys.version_info[0] < 3:\n",
    "\traise Exception(\"Python 3 not detected.\")\n",
    "import numpy as np\n",
    "import matplotlib.pyplot as plt\n",
    "from sklearn import svm\n",
    "from scipy import io\n",
    "\n",
    "\n",
    "for data_name in [\"mnist\", \"spam\", \"cifar10\"]:\n",
    "    data = np.load(f\"../data/{data_name}-data.npz\")\n",
    "    print(\"\\nloaded %s data!\" % data_name)\n",
    "    fields = \"test_data\", \"training_data\", \"training_labels\"\n",
    "    for field in fields:\n",
    "        print(field, data[field].shape)\n"
   ]
  },
  {
   "cell_type": "code",
   "execution_count": 3,
   "id": "ae3802d4-e4d5-4dbb-8b7a-beaecde52113",
   "metadata": {},
   "outputs": [],
   "source": [
    "# Q2: Data Partitioning\n",
    "\n",
    "# Returns indices for training_labels and training_data that are set aside for validation and for training.\n",
    "def shuffle_partition(data_name, count):\n",
    "    data = np.load(f\"../data/{data_name}-data.npz\")\n",
    "    indices = np.arange(0, len(data[\"training_labels\"]), 1)\n",
    "    np.random.shuffle(indices)\n",
    "    return indices[0:count], indices[count:]\n",
    "    \n",
    "# 10,000 training data set aside for validation.\n",
    "mnist_validation, mnist_training = shuffle_partition(\"mnist\", 10000)\n",
    "# 20% of training data set aside for validation.\n",
    "spam_validation, spam_training = shuffle_partition(\"spam\", 834)\n",
    "# 5,000 training data set aside for validation.\n",
    "cifar10_validation, cifar10_training = shuffle_partition(\"cifar10\", 5000)\n"
   ]
  }
 ],
 "metadata": {
  "kernelspec": {
   "display_name": "Python 3 (ipykernel)",
   "language": "python",
   "name": "python3"
  },
  "language_info": {
   "codemirror_mode": {
    "name": "ipython",
    "version": 3
   },
   "file_extension": ".py",
   "mimetype": "text/x-python",
   "name": "python",
   "nbconvert_exporter": "python",
   "pygments_lexer": "ipython3",
   "version": "3.9.13"
  }
 },
 "nbformat": 4,
 "nbformat_minor": 5
}
