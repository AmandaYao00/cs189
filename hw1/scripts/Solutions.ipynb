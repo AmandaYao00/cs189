{
 "cells": [
  {
   "cell_type": "code",
   "execution_count": 17,
   "id": "e1f754c0-5356-42c5-8ad3-ba47c2f50eab",
   "metadata": {},
   "outputs": [
    {
     "name": "stdout",
     "output_type": "stream",
     "text": [
      "\n",
      "loaded mnist data!\n",
      "test_data (10000, 1, 28, 28)\n",
      "training_data (60000, 1, 28, 28)\n",
      "training_labels (60000,)\n",
      "\n",
      "loaded spam data!\n",
      "test_data (1000, 32)\n",
      "training_data (4172, 32)\n",
      "training_labels (4172,)\n",
      "\n",
      "loaded cifar10 data!\n",
      "test_data (10000, 3072)\n",
      "training_data (50000, 3072)\n",
      "training_labels (50000,)\n"
     ]
    }
   ],
   "source": [
    "import sys\n",
    "if sys.version_info[0] < 3:\n",
    "\traise Exception(\"Python 3 not detected.\")\n",
    "import numpy as np\n",
    "import matplotlib.pyplot as plt\n",
    "from sklearn import svm\n",
    "from scipy import io\n",
    "\n",
    "\n",
    "for data_name in [\"mnist\", \"spam\", \"cifar10\"]:\n",
    "    data = np.load(f\"../data/{data_name}-data.npz\")\n",
    "    print(\"\\nloaded %s data!\" % data_name)\n",
    "    fields = \"test_data\", \"training_data\", \"training_labels\"\n",
    "    for field in fields:\n",
    "        print(field, data[field].shape)\n"
   ]
  },
  {
   "cell_type": "code",
   "execution_count": 20,
   "id": "ae3802d4-e4d5-4dbb-8b7a-beaecde52113",
   "metadata": {},
   "outputs": [
    {
     "name": "stdout",
     "output_type": "stream",
     "text": [
      "[18082 39568 44943 ...  4828 11047 53788]\n"
     ]
    }
   ],
   "source": [
    "# Q2: Data Partitioning\n",
    "\n",
    "# Returns indices for training_labels and training_data that are set aside for validation and for training.\n",
    "def shuffle_partition(data_name, count):\n",
    "    data = np.load(f\"../data/{data_name}-data.npz\")\n",
    "    indices = np.arange(0, len(data[\"training_labels\"]), 1)\n",
    "    np.random.shuffle(indices)\n",
    "    return indices[0:count], indices[count:]\n",
    "    \n",
    "# 10,000 training data set aside for validation.\n",
    "mnist_validation, mnist_training = shuffle_partition(\"mnist\", 10000)\n",
    "print(mnist_training)\n",
    "# 20% of training data set aside for validation.\n",
    "spam_validation, spam_training = shuffle_partition(\"spam\", 834)\n",
    "# 5,000 training data set aside for validation.\n",
    "cifar10_validation, cifar10_training = shuffle_partition(\"cifar10\", 5000)\n"
   ]
  },
  {
   "cell_type": "code",
   "execution_count": 23,
   "id": "59ff229f-ecc5-4901-a94a-60db4d4a2eb9",
   "metadata": {},
   "outputs": [
    {
     "name": "stdout",
     "output_type": "stream",
     "text": [
      "[4, 8, 1, 3, 0, 8, 4, 2, 6, 5, 6, 4, 8, 5, 9, 7, 5, 0, 2, 1, 7, 4, 1, 7, 8, 1, 8, 0, 2, 4, 5, 4, 3, 9, 8, 5, 9, 5, 7, 8, 3, 9, 5, 1, 2, 0, 8, 8, 3, 8, 5, 1, 0, 5, 2, 8, 2, 0, 7, 9, 5, 4, 2, 5, 8, 7, 7, 1, 0, 4, 3, 4, 2, 7, 4, 9, 8, 0, 1, 7, 3, 6, 8, 9, 7, 6, 5, 7, 5, 9, 5, 8, 7, 6, 6, 2, 4, 8, 9, 6]\n"
     ]
    }
   ],
   "source": [
    "# Q3: Support Vector Coding\n",
    "\n",
    "# Train Model\n",
    "def train_svm(data_name, training_indices, num_train):\n",
    "    clf = svm.LinearSVC()\n",
    "    data = np.load(f\"../data/{data_name}-data.npz\")\n",
    "    Y = []\n",
    "    for i in range(num_train):\n",
    "        index = mnist_training[i]\n",
    "        Y.append(data[\"training_labels\"][index])\n",
    "    #clf.fit(X, Y)\n",
    "\n",
    "# Train MNIST using raw pixels as features\n",
    "train_svm(\"mnist\", mnist_training, 100)\n",
    "\n",
    "\n"
   ]
  }
 ],
 "metadata": {
  "kernelspec": {
   "display_name": "Python 3 (ipykernel)",
   "language": "python",
   "name": "python3"
  },
  "language_info": {
   "codemirror_mode": {
    "name": "ipython",
    "version": 3
   },
   "file_extension": ".py",
   "mimetype": "text/x-python",
   "name": "python",
   "nbconvert_exporter": "python",
   "pygments_lexer": "ipython3",
   "version": "3.9.13"
  }
 },
 "nbformat": 4,
 "nbformat_minor": 5
}
